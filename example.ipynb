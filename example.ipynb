{
  "cells": [
    {
      "cell_type": "code",
      "execution_count": null,
      "metadata": {
        "id": "d7eP0MlJlRM2"
      },
      "outputs": [],
      "source": [
        "!wget -nc -q https://github.com/casperfibaek/super_res_s2/raw/main/example_data/s2_10m.tif\n",
        "!wget -nc -q https://github.com/casperfibaek/super_res_s2/raw/main/example_data/s2_10m_b8unsharp.tif\n",
        "!pip install s2super --upgrade"
      ]
    },
    {
      "cell_type": "code",
      "execution_count": 2,
      "metadata": {
        "id": "pNEBeo6Jl1uA"
      },
      "outputs": [],
      "source": [
        "import numpy as np\n",
        "import buteo as beo\n",
        "from matplotlib import pyplot as plt\n",
        "from s2super import predict, get_s2super_model\n",
        "\n",
        "plt.rcParams['figure.figsize'] = (20, 16)"
      ]
    },
    {
      "cell_type": "code",
      "execution_count": null,
      "metadata": {
        "colab": {
          "base_uri": "https://localhost:8080/",
          "height": 918
        },
        "id": "gzwqNhdCmCs8",
        "outputId": "1bd9a1f2-29c2-45a6-ae62-8a93a80a60e6"
      },
      "outputs": [],
      "source": [
        "# Load all sentinel 2 bands, set nodata to 0\n",
        "s2_data = beo.raster_to_array(\"/content/s2_10m.tif\").filled(0)\n",
        "\n",
        "# Load B12, normalise by 10000, add channel\n",
        "b12 = (s2_data[:, :,  -1][:, :, np.newaxis] / 10000.0).astype(\"float32\")\n",
        "\n",
        "# Load RGB bands, normalise by 10000, channel already added due to slice.\n",
        "rgb = (s2_data[:, :, 0:3] / 10000.0).astype(\"float32\")\n",
        "\n",
        "# Clear memory\n",
        "s2_data = None\n",
        "\n",
        "# Show RGB band.\n",
        "plt.imshow(np.clip(rgb[:, :, ::-1], 0.0, 1.0), vmin=0.1, vmax=0.6, interpolation=\"nearest\"); plt.axis('off')"
      ]
    },
    {
      "cell_type": "code",
      "execution_count": 4,
      "metadata": {
        "id": "ckNinH6joY_U"
      },
      "outputs": [],
      "source": [
        "model = get_s2super_model()"
      ]
    },
    {
      "cell_type": "code",
      "execution_count": null,
      "metadata": {
        "colab": {
          "base_uri": "https://localhost:8080/",
          "height": 936
        },
        "id": "AWspRcV9opEB",
        "outputId": "aef1bd07-7c98-4ce4-ee6d-37b6ccf81164"
      },
      "outputs": [],
      "source": [
        "# Predict sharp image and confidence\n",
        "b12_sharp, confidence = predict(model, [b12, rgb], b12, confidence_output=True, verbose=0, number_of_offsets=9, merge_method=\"max_conf\")"
      ]
    },
    {
      "cell_type": "code",
      "execution_count": null,
      "metadata": {},
      "outputs": [],
      "source": [
        "# Show B12 band - UNSHARP.\n",
        "plt.imshow(b12[:, :, 0], vmin=0.1, vmax=0.7, interpolation=\"nearest\"); plt.axis('off')"
      ]
    },
    {
      "cell_type": "code",
      "execution_count": null,
      "metadata": {
        "colab": {
          "base_uri": "https://localhost:8080/",
          "height": 918
        },
        "id": "HDmav0kl-z1p",
        "outputId": "966887bb-dbb3-4b51-b36f-e15f564e3c8d"
      },
      "outputs": [],
      "source": [
        "# Show B12 band - SHARP.\n",
        "plt.imshow(b12_sharp[:, :, 0], vmin=0.1, vmax=0.7, interpolation=\"nearest\"); plt.axis('off')"
      ]
    }
  ],
  "metadata": {
    "accelerator": "GPU",
    "colab": {
      "collapsed_sections": [],
      "machine_shape": "hm",
      "provenance": []
    },
    "gpuClass": "premium",
    "kernelspec": {
      "display_name": "Python 3.9.12 ('base')",
      "language": "python",
      "name": "python3"
    },
    "language_info": {
      "name": "python",
      "version": "3.9.12"
    },
    "vscode": {
      "interpreter": {
        "hash": "202e009cabad256c97e5a382217e8fa07bd133801cb62e715161558be203e6a6"
      }
    }
  },
  "nbformat": 4,
  "nbformat_minor": 0
}
